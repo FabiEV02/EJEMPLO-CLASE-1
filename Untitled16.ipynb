{
  "nbformat": 4,
  "nbformat_minor": 0,
  "metadata": {
    "colab": {
      "provenance": [],
      "authorship_tag": "ABX9TyM5rOac+TOsRKBy82RC0NFQ",
      "include_colab_link": true
    },
    "kernelspec": {
      "name": "python3",
      "display_name": "Python 3"
    },
    "language_info": {
      "name": "python"
    }
  },
  "cells": [
    {
      "cell_type": "markdown",
      "metadata": {
        "id": "view-in-github",
        "colab_type": "text"
      },
      "source": [
        "<a href=\"https://colab.research.google.com/github/FabiEV02/EJEMPLO-CLASE-1/blob/main/Untitled16.ipynb\" target=\"_parent\"><img src=\"https://colab.research.google.com/assets/colab-badge.svg\" alt=\"Open In Colab\"/></a>"
      ]
    },
    {
      "cell_type": "code",
      "execution_count": null,
      "metadata": {
        "colab": {
          "base_uri": "https://localhost:8080/"
        },
        "id": "KS8OOeDm6Wz4",
        "outputId": "e2124c21-3252-4d0c-d4ac-231fa0431ff5"
      },
      "outputs": [
        {
          "output_type": "stream",
          "name": "stdout",
          "text": [
            "Ingrese: 10\n",
            "El termino nº 10 de la serie Fibonacci es: 34\n"
          ]
        }
      ],
      "source": [
        "Escribir una función que devuelva el n-ésimo término de la siguiente serie:\n",
        "1, 2, 3, 6, 7, 14, 15, 30, 31, …. Serie1(5) 7\n",
        "def Serie1():\n",
        "  pass\n",
        "\n",
        "#PROGRAMA PRINCIPAL\n",
        "while True:\n",
        "  cant = int(input(\"Ingrese: \"))\n",
        "  if cant > 0:\n",
        "    break\n",
        "  else:\n",
        "    print(\"Termino erroneo..\")\n",
        "lista=[]\n",
        "if cant == 1:\n",
        "  lista.append(0)\n",
        "  print(f\"El termino nº {cant} de la serie Fibonacci es: {lista[-1]}\")\n",
        "if cant == 2:\n",
        "  lista.extend([0,1])\n",
        "  print(f\"El termino nº {cant} de la serie Fibonacci es: {lista[-1]}\")\n",
        "if cant>2:\n",
        "  lista.extend([0,1])\n",
        "  a = Fibo(cant-2,0)\n",
        "  print(f\"El termino nº {cant} de la serie Fibonacci es: {lista[-1]}\")"
      ]
    }
  ]
}